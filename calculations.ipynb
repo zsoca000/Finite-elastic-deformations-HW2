{
 "cells": [
  {
   "cell_type": "markdown",
   "id": "11040ade",
   "metadata": {},
   "source": [
    "# Defines"
   ]
  },
  {
   "cell_type": "code",
   "execution_count": 74,
   "id": "e32c85e0",
   "metadata": {},
   "outputs": [],
   "source": [
    "import numpy as np\n",
    "import matplotlib.pyplot as plt\n",
    "from numpy.linalg import inv\n",
    "I = np.eye(3)\n",
    "O = np.zeros((3, 3))"
   ]
  },
  {
   "cell_type": "markdown",
   "id": "8b883045",
   "metadata": {},
   "source": [
    "# Contmecha formulas"
   ]
  },
  {
   "cell_type": "markdown",
   "id": "62ab8636",
   "metadata": {},
   "source": [
    "### Rates of change"
   ]
  },
  {
   "cell_type": "markdown",
   "id": "23ee360d",
   "metadata": {},
   "source": [
    "Velocity gradient:\n",
    "$$\\boldsymbol{l} = \\text{grad}\\boldsymbol{v}$$\n",
    "Rate of deformation:\n",
    "$$\\boldsymbol{d} = \\text{symm}(\\boldsymbol{l}) = \\frac{1}{2}(\\boldsymbol{l}+\\boldsymbol{l}^T)$$\n",
    "Spin tensor:\n",
    "$$\\boldsymbol{w} = \\text{skew}(\\boldsymbol{l}) = \\frac{1}{2}(\\boldsymbol{l}-\\boldsymbol{l}^T)$$"
   ]
  },
  {
   "cell_type": "markdown",
   "id": "d9ced6f7",
   "metadata": {},
   "source": [
    "# Simple shear"
   ]
  },
  {
   "cell_type": "markdown",
   "id": "11379af9",
   "metadata": {},
   "source": [
    "$$\n",
    "[F] = \n",
    "\\begin{bmatrix}\n",
    "    1 & \\gamma & 0 \\\\\n",
    "    0 & 1 & 0 \\\\\n",
    "    0 & 0 & 1 \\\\\n",
    "\\end{bmatrix}\n",
    "\\quad\\Rightarrow\\quad\n",
    "[F^{-1}] = \n",
    "\\begin{bmatrix}\n",
    "    1 & -\\gamma & 0 \\\\\n",
    "    0 & 1 & 0 \\\\\n",
    "    0 & 0 & 1 \\\\\n",
    "\\end{bmatrix}\n",
    "$$"
   ]
  },
  {
   "cell_type": "code",
   "execution_count": 70,
   "id": "bb357e73",
   "metadata": {},
   "outputs": [],
   "source": [
    "N = 1000\n",
    "t = np.linspace(0,1,N)\n",
    "\n",
    "gamma  = lambda t: 4*t\n",
    "dgamma = lambda t: 4"
   ]
  },
  {
   "cell_type": "markdown",
   "id": "f87498d1",
   "metadata": {},
   "source": [
    "$$\n",
    "[l] = [\\dot{F}F^{-1}] = \n",
    "\\begin{bmatrix}\n",
    "    0 & \\dot{\\gamma}(t) & 0 \\\\\n",
    "    0 & 0 & 0 \\\\\n",
    "    0 & 0 & 0 \\\\\n",
    "\\end{bmatrix}\n",
    "$$"
   ]
  },
  {
   "cell_type": "code",
   "execution_count": 71,
   "id": "0a6828f4",
   "metadata": {},
   "outputs": [],
   "source": [
    "l = lambda t : np.array([[0,dgamma(t),0],[0,0,0],[0,0,0]])"
   ]
  },
  {
   "cell_type": "markdown",
   "id": "2ff977db",
   "metadata": {},
   "source": [
    "$$\n",
    "d = \\frac{1}{2}(l+l^T) \\quad\\&\\quad w = l - d\n",
    "$$"
   ]
  },
  {
   "cell_type": "code",
   "execution_count": 72,
   "id": "f87cb056",
   "metadata": {},
   "outputs": [],
   "source": [
    "d = lambda t: 1/2 * (l(t)+l(t).T)\n",
    "w = lambda t: l(t) - d(t)"
   ]
  },
  {
   "cell_type": "markdown",
   "id": "76f79ea9",
   "metadata": {},
   "source": [
    "## Radial return algorithm"
   ]
  },
  {
   "cell_type": "markdown",
   "id": "d5c312e9",
   "metadata": {},
   "source": [
    "Hooke's law:\n",
    "$$\n",
    "\\overset{\\circ}{\\sigma} = \\mathbb{D} : d \n",
    "\\quad\\Rightarrow\\quad\n",
    "\\overset{\\circ}{\\sigma} = \\frac{E}{1+\\nu}\\left(d+\\frac{\\nu}{1-2\\nu}(\\text{tr}d)I\\right)\n",
    "$$"
   ]
  },
  {
   "cell_type": "code",
   "execution_count": 87,
   "id": "5ff38748",
   "metadata": {},
   "outputs": [],
   "source": [
    "E = 200e9\n",
    "nu = 0.3\n",
    "G = 76.923e3\n",
    "\n",
    "D = lambda d: E/(1+nu) * (d + nu/(1-2*nu)*np.trace(d)*I)"
   ]
  },
  {
   "cell_type": "markdown",
   "id": "f3d96a17",
   "metadata": {},
   "source": [
    "Yield curve:\n",
    "$$\n",
    "Y(\\lambda) = a(\\varepsilon_0+\\lambda)^n\n",
    "$$"
   ]
  },
  {
   "cell_type": "code",
   "execution_count": 86,
   "id": "423519b6",
   "metadata": {},
   "outputs": [],
   "source": [
    "a = 500e6\n",
    "eps_0  = 0.00003\n",
    "n = 0.2\n",
    "\n",
    "Y = lambda λ : a*(eps_0 + λ)**n"
   ]
  },
  {
   "cell_type": "code",
   "execution_count": 88,
   "id": "13e84050",
   "metadata": {},
   "outputs": [],
   "source": [
    "Q = np.tile(I, (N, 1, 1))\n",
    "sig = np.tile(O, (N, 1, 1))\n",
    "\n",
    "for n in range(N-1):\n",
    "    dt = t[n+1] - t[n]\n",
    "    t_mid = t[n]+dt/2\n",
    "\n",
    "    # Hughes-Winget\n",
    "    Q[n+1] = inv(I - 1/2*w(t_mid)*dt) @ (I + 1/2*w(t_mid)*dt) @ Q[n]\n",
    "    Q_mid = Q[n+1] # Kossa mondta a videóban, hogy nem kell a középső lépés\n",
    "\n",
    "    deps_tilde = Q_mid.T @ d(t_mid) @ Q_mid\n",
    "\n",
    "    sig_trial_tilde = sig[n] + D(deps_tilde)\n"
   ]
  }
 ],
 "metadata": {
  "kernelspec": {
   "display_name": "Python 3",
   "language": "python",
   "name": "python3"
  },
  "language_info": {
   "codemirror_mode": {
    "name": "ipython",
    "version": 3
   },
   "file_extension": ".py",
   "mimetype": "text/x-python",
   "name": "python",
   "nbconvert_exporter": "python",
   "pygments_lexer": "ipython3",
   "version": "3.11.8"
  }
 },
 "nbformat": 4,
 "nbformat_minor": 5
}
