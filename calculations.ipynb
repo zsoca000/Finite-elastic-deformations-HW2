{
 "cells": [
  {
   "cell_type": "markdown",
   "id": "11040ade",
   "metadata": {},
   "source": [
    "# Defines"
   ]
  },
  {
   "cell_type": "code",
   "execution_count": 39,
   "id": "e32c85e0",
   "metadata": {},
   "outputs": [],
   "source": [
    "import numpy as np\n",
    "import matplotlib.pyplot as plt\n",
    "from numpy.linalg import inv\n",
    "from scipy.optimize import root\n",
    "I = np.eye(3)\n",
    "O = np.zeros((3, 3))"
   ]
  },
  {
   "cell_type": "markdown",
   "id": "8b883045",
   "metadata": {},
   "source": [
    "# Contmecha formulas"
   ]
  },
  {
   "cell_type": "markdown",
   "id": "62ab8636",
   "metadata": {},
   "source": [
    "### Rates of change"
   ]
  },
  {
   "cell_type": "markdown",
   "id": "23ee360d",
   "metadata": {},
   "source": [
    "Velocity gradient:\n",
    "$$\\boldsymbol{l} = \\text{grad}\\boldsymbol{v}$$\n",
    "Rate of deformation:\n",
    "$$\\boldsymbol{d} = \\text{symm}(\\boldsymbol{l}) = \\frac{1}{2}(\\boldsymbol{l}+\\boldsymbol{l}^T)$$\n",
    "Spin tensor:\n",
    "$$\\boldsymbol{w} = \\text{skew}(\\boldsymbol{l}) = \\frac{1}{2}(\\boldsymbol{l}-\\boldsymbol{l}^T)$$"
   ]
  },
  {
   "cell_type": "markdown",
   "id": "d9ced6f7",
   "metadata": {},
   "source": [
    "# Simple shear"
   ]
  },
  {
   "cell_type": "markdown",
   "id": "11379af9",
   "metadata": {},
   "source": [
    "$$\n",
    "[F] = \n",
    "\\begin{bmatrix}\n",
    "    1 & \\gamma & 0 \\\\\n",
    "    0 & 1 & 0 \\\\\n",
    "    0 & 0 & 1 \\\\\n",
    "\\end{bmatrix}\n",
    "\\quad\\Rightarrow\\quad\n",
    "[F^{-1}] = \n",
    "\\begin{bmatrix}\n",
    "    1 & -\\gamma & 0 \\\\\n",
    "    0 & 1 & 0 \\\\\n",
    "    0 & 0 & 1 \\\\\n",
    "\\end{bmatrix}\n",
    "$$"
   ]
  },
  {
   "cell_type": "code",
   "execution_count": 40,
   "id": "bb357e73",
   "metadata": {},
   "outputs": [],
   "source": [
    "N = 5\n",
    "t = np.linspace(0,1,N)\n",
    "\n",
    "gamma  = lambda t: 4*t\n",
    "dgamma = lambda t: 4"
   ]
  },
  {
   "cell_type": "markdown",
   "id": "f87498d1",
   "metadata": {},
   "source": [
    "$$\n",
    "[l] = [\\dot{F}F^{-1}] = \n",
    "\\begin{bmatrix}\n",
    "    0 & \\dot{\\gamma}(t) & 0 \\\\\n",
    "    0 & 0 & 0 \\\\\n",
    "    0 & 0 & 0 \\\\\n",
    "\\end{bmatrix}\n",
    "$$"
   ]
  },
  {
   "cell_type": "code",
   "execution_count": 41,
   "id": "0a6828f4",
   "metadata": {},
   "outputs": [],
   "source": [
    "l = lambda t : np.array([[0,dgamma(t),0],[0,0,0],[0,0,0]])"
   ]
  },
  {
   "cell_type": "markdown",
   "id": "2ff977db",
   "metadata": {},
   "source": [
    "$$\n",
    "d = \\frac{1}{2}(l+l^T) \\quad\\&\\quad w = l - d\n",
    "$$"
   ]
  },
  {
   "cell_type": "code",
   "execution_count": 42,
   "id": "f87cb056",
   "metadata": {},
   "outputs": [],
   "source": [
    "d = lambda t: 1/2 * (l(t)+l(t).T)\n",
    "w = lambda t: l(t) - d(t)"
   ]
  },
  {
   "cell_type": "markdown",
   "id": "76f79ea9",
   "metadata": {},
   "source": [
    "## Radial return algorithm"
   ]
  },
  {
   "cell_type": "markdown",
   "id": "d5c312e9",
   "metadata": {},
   "source": [
    "Hooke's law:\n",
    "$$\n",
    "\\overset{\\circ}{\\sigma} = \\mathbb{D} : d \n",
    "\\quad\\Rightarrow\\quad\n",
    "\\overset{\\circ}{\\sigma} = \\frac{E}{1+\\nu}\\left(d+\\frac{\\nu}{1-2\\nu}(\\text{tr}d)I\\right)\n",
    "$$"
   ]
  },
  {
   "cell_type": "code",
   "execution_count": 43,
   "id": "5ff38748",
   "metadata": {},
   "outputs": [],
   "source": [
    "E = 200e9\n",
    "nu = 0.3\n",
    "G = E/2/(1+nu)\n",
    "\n",
    "D = lambda d: E/(1+nu) * (d + nu/(1-2*nu)*np.trace(d)*I)"
   ]
  },
  {
   "cell_type": "markdown",
   "id": "f3d96a17",
   "metadata": {},
   "source": [
    "Yield curve:\n",
    "$$\n",
    "Y(\\lambda) = a(\\varepsilon_0+\\lambda)^n\n",
    "$$"
   ]
  },
  {
   "cell_type": "code",
   "execution_count": 44,
   "id": "423519b6",
   "metadata": {},
   "outputs": [],
   "source": [
    "a = 500e6\n",
    "eps_0  = 0.0003\n",
    "n = 0.2\n",
    "\n",
    "Y_F = lambda λ : a*(eps_0 + λ)**n"
   ]
  },
  {
   "cell_type": "code",
   "execution_count": 45,
   "id": "e8f4c18a",
   "metadata": {},
   "outputs": [],
   "source": [
    "dev = lambda M : M - np.trace(M) / 3 * I\n",
    "norm = lambda M : np.sqrt(np.sum(M**2)) # TODO: Check if it's good!"
   ]
  },
  {
   "cell_type": "code",
   "execution_count": 46,
   "id": "13e84050",
   "metadata": {},
   "outputs": [],
   "source": [
    "Q = np.tile(I, (N, 1, 1))\n",
    "sig_tilde = np.tile(O, (N, 1, 1))\n",
    "sig = np.tile(O, (N, 1, 1))\n",
    "Y = np.ones(N) * Y_F(0)\n",
    "λ = np.zeros(N)\n",
    "\n",
    "for n in range(N-1):\n",
    "    dt = t[n+1] - t[n]\n",
    "    t_mid = t[n]+dt/2\n",
    "\n",
    "    # Hughes-Winget\n",
    "    Q[n+1] = inv(I - 1/2*w(t_mid)*dt) @ (I + 1/2*w(t_mid)*dt) @ Q[n]\n",
    "    Q_mid = Q[n+1] # Kossa mondta a videóban, hogy nem kell a középső lépés\n",
    "\n",
    "    deps_tilde = Q_mid.T @ d(t_mid) @ Q_mid\n",
    "\n",
    "    # Step 3: trial stress\n",
    "    sig_trial_tilde = sig_tilde[n] + D(deps_tilde)\n",
    "    s_trial_tilde = dev(sig_trial_tilde)\n",
    "\n",
    "    # Step 4: trial yield function\n",
    "    F_trial = (3/2)**(1/2) * norm(s_trial_tilde) - Y[n]\n",
    "\n",
    "    if F_trial <= 0:\n",
    "        # Step 6: Elastic increment\n",
    "        sig_tilde[n+1] = sig_trial_tilde\n",
    "        Y[n+1] = Y[n]\n",
    "        λ[n+1] = λ[n]\n",
    "    else:\n",
    "        # Step 7: Accumulated plastic strain increment\n",
    "        def eq(dλ):\n",
    "            ret  = (3/2)**(1/2) * norm(s_trial_tilde)\n",
    "            ret -= 3*G*dλ\n",
    "            ret -= Y_F(λ[n]+dλ)\n",
    "            return ret\n",
    "        dλ = (root(eq,1e-8).x)[0]\n",
    "        # Step 8: Plastic strain increment and yield stress update\n",
    "        deps_p_tilde = (3/2)**(1/2) * dλ * s_trial_tilde / norm(s_trial_tilde)\n",
    "        λ[n+1] = λ[n] + dλ\n",
    "        Y[n+1] = Y_F(λ[n+1])\n",
    "        # Step 9: Update the rotated stress\n",
    "        sig_tilde[n+1] = sig_trial_tilde - D(deps_p_tilde)\n",
    "    \n",
    "    # Step 10: Compute the stress tensor\n",
    "    sig[n+1] = Q[n+1] @ sig_tilde[n+1] @ Q[n+1].T\n"
   ]
  },
  {
   "cell_type": "code",
   "execution_count": 48,
   "id": "c8434163",
   "metadata": {},
   "outputs": [
    {
     "data": {
      "text/plain": [
       "[<matplotlib.lines.Line2D at 0xffbf48a445c0>]"
      ]
     },
     "execution_count": 48,
     "metadata": {},
     "output_type": "execute_result"
    },
    {
     "data": {
      "image/png": "[encoded data removed]",
      "text/plain": [
       "<Figure size 640x480 with 1 Axes>"
      ]
     },
     "metadata": {},
     "output_type": "display_data"
    }
   ],
   "source": [
    "plt.plot(sig[:,0,0])"
   ]
  }
 ],
 "metadata": {
  "kernelspec": {
   "display_name": "Python 3",
   "language": "python",
   "name": "python3"
  },
  "language_info": {
   "codemirror_mode": {
    "name": "ipython",
    "version": 3
   },
   "file_extension": ".py",
   "mimetype": "text/x-python",
   "name": "python",
   "nbconvert_exporter": "python",
   "pygments_lexer": "ipython3",
   "version": "3.12.3"
  }
 },
 "nbformat": 4,
 "nbformat_minor": 5
}
